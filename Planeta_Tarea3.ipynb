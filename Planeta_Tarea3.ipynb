{
 "cells": [
  {
   "cell_type": "code",
   "execution_count": 1,
   "metadata": {
    "collapsed": true
   },
   "outputs": [],
   "source": [
    "import pandas as pd\n",
    "import numpy as np\n",
    "import matplotlib.pyplot as plt\n",
    "from sklearn import svm\n",
    "from sklearn import datasets\n",
    "from sklearn.datasets import make_classification\n",
    "from sklearn.datasets import make_blobs, make_moons, make_circles\n",
    "from sklearn.model_selection import train_test_split\n",
    "from sklearn import preprocessing\n",
    "from sklearn.model_selection import cross_val_score\n",
    "from sklearn.metrics import confusion_matrix\n",
    "from scipy import optimize\n",
    "from IPython.core.debugger import Tracer\n",
    "%matplotlib inline"
   ]
  },
  {
   "cell_type": "code",
   "execution_count": 2,
   "metadata": {
    "collapsed": true
   },
   "outputs": [],
   "source": [
    "highPerturbation = pd.read_csv('./highp_finalresults.csv')#, index_col=0)\n",
    "lowPerturbation = pd.read_csv('./lowp_finalresults.csv')#, index_col=0)"
   ]
  },
  {
   "cell_type": "markdown",
   "metadata": {},
   "source": [
    "## Primero se realiza un análisis individual de cada sistema para extraer la información"
   ]
  },
  {
   "cell_type": "code",
   "execution_count": 3,
   "metadata": {
    "collapsed": false
   },
   "outputs": [],
   "source": [
    "columns=['emestar','rc','qest','sigmag_0','emed','gama','apert','fpert','constmigI','emetal','taugas',\\\n",
    "        'num_planets','mass_planets','mass_efficiency']\n",
    "\n",
    "#High Perturbation System Analysis\n",
    "Num_systh = highPerturbation['ident'].values[-1]+1\n",
    "highp_vars = pd.DataFrame(columns=columns)\n",
    "for i in range(Num_systh):\n",
    "    Current_syst = highPerturbation[highPerturbation['ident'].values==i]\n",
    "    planets=np.shape(Current_syst)[0]\n",
    "    \n",
    "    if(planets>0):\n",
    "        initials=Current_syst[columns[:11]].values[0]\n",
    "        planets=np.shape(Current_syst)[0]\n",
    "        row_vals=np.append(initials,planets)\n",
    "\n",
    "        planet_mass=np.sum(Current_syst['emepla(i)/emet'].values)\n",
    "        row_vals=np.append(row_vals,planet_mass)\n",
    "\n",
    "        eff=planet_mass/Current_syst['emed'].values[0]\n",
    "        row_vals=np.append(row_vals,eff)\n",
    "    else:\n",
    "        row_vals=np.array([0,0,0,0,0,0,0,0,0,0,0,0,0,0])\n",
    "    \n",
    "    highp_vars.loc[i]=row_vals\n",
    "    \n",
    "    \n",
    "#Low Perturbation System Analysis\n",
    "Num_systl = lowPerturbation['ident'].values[-1]+1\n",
    "lowp_vars = pd.DataFrame(columns=columns)\n",
    "for i in range(Num_systl):\n",
    "    Current_syst = lowPerturbation[lowPerturbation['ident'].values==i]\n",
    "    planets=np.shape(Current_syst)[0]\n",
    "    \n",
    "    if(planets>0):\n",
    "        initials=Current_syst[columns[:11]].values[0]\n",
    "        planets=np.shape(Current_syst)[0]\n",
    "        row_vals=np.append(initials,planets)\n",
    "\n",
    "        planet_mass=np.sum(Current_syst['emepla(i)/emet'].values)\n",
    "        row_vals=np.append(row_vals,planet_mass)\n",
    "\n",
    "        eff=planet_mass/Current_syst['emed'].values[0]\n",
    "        row_vals=np.append(row_vals,eff)\n",
    "    else:\n",
    "        row_vals=np.array([0,0,0,0,0,0,0,0,0,0,0,0,0,0])\n",
    "    \n",
    "    lowp_vars.loc[i]=row_vals"
   ]
  },
  {
   "cell_type": "code",
   "execution_count": 4,
   "metadata": {
    "collapsed": false,
    "scrolled": false
   },
   "outputs": [
    {
     "data": {
      "text/html": [
       "<div>\n",
       "<table border=\"1\" class=\"dataframe\">\n",
       "  <thead>\n",
       "    <tr style=\"text-align: right;\">\n",
       "      <th></th>\n",
       "      <th>emestar</th>\n",
       "      <th>rc</th>\n",
       "      <th>qest</th>\n",
       "      <th>sigmag_0</th>\n",
       "      <th>emed</th>\n",
       "      <th>gama</th>\n",
       "      <th>apert</th>\n",
       "      <th>fpert</th>\n",
       "      <th>constmigI</th>\n",
       "      <th>emetal</th>\n",
       "      <th>taugas</th>\n",
       "      <th>num_planets</th>\n",
       "      <th>mass_planets</th>\n",
       "      <th>mass_efficiency</th>\n",
       "    </tr>\n",
       "  </thead>\n",
       "  <tbody>\n",
       "    <tr>\n",
       "      <th>0</th>\n",
       "      <td>4.368174e+32</td>\n",
       "      <td>59.882370</td>\n",
       "      <td>1.110726</td>\n",
       "      <td>51.287674</td>\n",
       "      <td>0.130</td>\n",
       "      <td>1.0</td>\n",
       "      <td>0.3</td>\n",
       "      <td>1.0</td>\n",
       "      <td>0.1</td>\n",
       "      <td>0.077070</td>\n",
       "      <td>9268935.000</td>\n",
       "      <td>11.0</td>\n",
       "      <td>8.136583</td>\n",
       "      <td>62.589101</td>\n",
       "    </tr>\n",
       "    <tr>\n",
       "      <th>1</th>\n",
       "      <td>2.095099e+32</td>\n",
       "      <td>40.040195</td>\n",
       "      <td>3.201758</td>\n",
       "      <td>16.765976</td>\n",
       "      <td>0.019</td>\n",
       "      <td>1.0</td>\n",
       "      <td>0.3</td>\n",
       "      <td>1.0</td>\n",
       "      <td>0.1</td>\n",
       "      <td>-0.092791</td>\n",
       "      <td>3525593.500</td>\n",
       "      <td>13.0</td>\n",
       "      <td>2.827470</td>\n",
       "      <td>148.814199</td>\n",
       "    </tr>\n",
       "    <tr>\n",
       "      <th>2</th>\n",
       "      <td>5.354890e+32</td>\n",
       "      <td>40.647163</td>\n",
       "      <td>1.965345</td>\n",
       "      <td>67.644768</td>\n",
       "      <td>0.079</td>\n",
       "      <td>1.0</td>\n",
       "      <td>0.3</td>\n",
       "      <td>1.0</td>\n",
       "      <td>0.1</td>\n",
       "      <td>0.514770</td>\n",
       "      <td>9390406.000</td>\n",
       "      <td>9.0</td>\n",
       "      <td>7.979543</td>\n",
       "      <td>101.006870</td>\n",
       "    </tr>\n",
       "    <tr>\n",
       "      <th>3</th>\n",
       "      <td>3.614768e+32</td>\n",
       "      <td>29.539343</td>\n",
       "      <td>9.568532</td>\n",
       "      <td>16.213096</td>\n",
       "      <td>0.010</td>\n",
       "      <td>1.0</td>\n",
       "      <td>0.3</td>\n",
       "      <td>1.0</td>\n",
       "      <td>0.1</td>\n",
       "      <td>0.328146</td>\n",
       "      <td>1644710.625</td>\n",
       "      <td>18.0</td>\n",
       "      <td>6.944855</td>\n",
       "      <td>694.485525</td>\n",
       "    </tr>\n",
       "    <tr>\n",
       "      <th>4</th>\n",
       "      <td>2.885875e+32</td>\n",
       "      <td>61.195038</td>\n",
       "      <td>2.230675</td>\n",
       "      <td>15.866622</td>\n",
       "      <td>0.042</td>\n",
       "      <td>1.0</td>\n",
       "      <td>0.3</td>\n",
       "      <td>1.0</td>\n",
       "      <td>0.1</td>\n",
       "      <td>-0.220031</td>\n",
       "      <td>9468353.000</td>\n",
       "      <td>10.0</td>\n",
       "      <td>3.193649</td>\n",
       "      <td>76.039252</td>\n",
       "    </tr>\n",
       "  </tbody>\n",
       "</table>\n",
       "</div>"
      ],
      "text/plain": [
       "        emestar         rc      qest   sigmag_0   emed  gama  apert  fpert  \\\n",
       "0  4.368174e+32  59.882370  1.110726  51.287674  0.130   1.0    0.3    1.0   \n",
       "1  2.095099e+32  40.040195  3.201758  16.765976  0.019   1.0    0.3    1.0   \n",
       "2  5.354890e+32  40.647163  1.965345  67.644768  0.079   1.0    0.3    1.0   \n",
       "3  3.614768e+32  29.539343  9.568532  16.213096  0.010   1.0    0.3    1.0   \n",
       "4  2.885875e+32  61.195038  2.230675  15.866622  0.042   1.0    0.3    1.0   \n",
       "\n",
       "   constmigI    emetal       taugas  num_planets  mass_planets  \\\n",
       "0        0.1  0.077070  9268935.000         11.0      8.136583   \n",
       "1        0.1 -0.092791  3525593.500         13.0      2.827470   \n",
       "2        0.1  0.514770  9390406.000          9.0      7.979543   \n",
       "3        0.1  0.328146  1644710.625         18.0      6.944855   \n",
       "4        0.1 -0.220031  9468353.000         10.0      3.193649   \n",
       "\n",
       "   mass_efficiency  \n",
       "0        62.589101  \n",
       "1       148.814199  \n",
       "2       101.006870  \n",
       "3       694.485525  \n",
       "4        76.039252  "
      ]
     },
     "execution_count": 4,
     "metadata": {},
     "output_type": "execute_result"
    }
   ],
   "source": [
    "highp_vars.head()"
   ]
  },
  {
   "cell_type": "code",
   "execution_count": 5,
   "metadata": {
    "collapsed": false
   },
   "outputs": [
    {
     "data": {
      "text/html": [
       "<div>\n",
       "<table border=\"1\" class=\"dataframe\">\n",
       "  <thead>\n",
       "    <tr style=\"text-align: right;\">\n",
       "      <th></th>\n",
       "      <th>emestar</th>\n",
       "      <th>rc</th>\n",
       "      <th>qest</th>\n",
       "      <th>sigmag_0</th>\n",
       "      <th>emed</th>\n",
       "      <th>gama</th>\n",
       "      <th>apert</th>\n",
       "      <th>fpert</th>\n",
       "      <th>constmigI</th>\n",
       "      <th>emetal</th>\n",
       "      <th>taugas</th>\n",
       "      <th>num_planets</th>\n",
       "      <th>mass_planets</th>\n",
       "      <th>mass_efficiency</th>\n",
       "    </tr>\n",
       "  </thead>\n",
       "  <tbody>\n",
       "    <tr>\n",
       "      <th>0</th>\n",
       "      <td>4.368174e+32</td>\n",
       "      <td>59.882370</td>\n",
       "      <td>1.110726</td>\n",
       "      <td>51.287674</td>\n",
       "      <td>0.130</td>\n",
       "      <td>1.0</td>\n",
       "      <td>0.1</td>\n",
       "      <td>1.0</td>\n",
       "      <td>0.1</td>\n",
       "      <td>0.077070</td>\n",
       "      <td>9268935.000</td>\n",
       "      <td>12.0</td>\n",
       "      <td>6.705383</td>\n",
       "      <td>51.579871</td>\n",
       "    </tr>\n",
       "    <tr>\n",
       "      <th>1</th>\n",
       "      <td>2.095099e+32</td>\n",
       "      <td>40.040195</td>\n",
       "      <td>3.201758</td>\n",
       "      <td>16.765976</td>\n",
       "      <td>0.019</td>\n",
       "      <td>1.0</td>\n",
       "      <td>0.1</td>\n",
       "      <td>1.0</td>\n",
       "      <td>0.1</td>\n",
       "      <td>-0.092791</td>\n",
       "      <td>3525593.500</td>\n",
       "      <td>8.0</td>\n",
       "      <td>2.725320</td>\n",
       "      <td>143.437891</td>\n",
       "    </tr>\n",
       "    <tr>\n",
       "      <th>2</th>\n",
       "      <td>5.354890e+32</td>\n",
       "      <td>40.647163</td>\n",
       "      <td>1.965345</td>\n",
       "      <td>67.644768</td>\n",
       "      <td>0.079</td>\n",
       "      <td>1.0</td>\n",
       "      <td>0.1</td>\n",
       "      <td>1.0</td>\n",
       "      <td>0.1</td>\n",
       "      <td>0.514770</td>\n",
       "      <td>9390406.000</td>\n",
       "      <td>12.0</td>\n",
       "      <td>10.749995</td>\n",
       "      <td>136.075885</td>\n",
       "    </tr>\n",
       "    <tr>\n",
       "      <th>3</th>\n",
       "      <td>3.614768e+32</td>\n",
       "      <td>29.539343</td>\n",
       "      <td>9.568532</td>\n",
       "      <td>16.213096</td>\n",
       "      <td>0.010</td>\n",
       "      <td>1.0</td>\n",
       "      <td>0.1</td>\n",
       "      <td>1.0</td>\n",
       "      <td>0.1</td>\n",
       "      <td>0.328146</td>\n",
       "      <td>1644710.625</td>\n",
       "      <td>23.0</td>\n",
       "      <td>6.397114</td>\n",
       "      <td>639.711381</td>\n",
       "    </tr>\n",
       "    <tr>\n",
       "      <th>4</th>\n",
       "      <td>2.885875e+32</td>\n",
       "      <td>61.195038</td>\n",
       "      <td>2.230675</td>\n",
       "      <td>15.866622</td>\n",
       "      <td>0.042</td>\n",
       "      <td>1.0</td>\n",
       "      <td>0.1</td>\n",
       "      <td>1.0</td>\n",
       "      <td>0.1</td>\n",
       "      <td>-0.220031</td>\n",
       "      <td>9468353.000</td>\n",
       "      <td>10.0</td>\n",
       "      <td>2.953130</td>\n",
       "      <td>70.312617</td>\n",
       "    </tr>\n",
       "  </tbody>\n",
       "</table>\n",
       "</div>"
      ],
      "text/plain": [
       "        emestar         rc      qest   sigmag_0   emed  gama  apert  fpert  \\\n",
       "0  4.368174e+32  59.882370  1.110726  51.287674  0.130   1.0    0.1    1.0   \n",
       "1  2.095099e+32  40.040195  3.201758  16.765976  0.019   1.0    0.1    1.0   \n",
       "2  5.354890e+32  40.647163  1.965345  67.644768  0.079   1.0    0.1    1.0   \n",
       "3  3.614768e+32  29.539343  9.568532  16.213096  0.010   1.0    0.1    1.0   \n",
       "4  2.885875e+32  61.195038  2.230675  15.866622  0.042   1.0    0.1    1.0   \n",
       "\n",
       "   constmigI    emetal       taugas  num_planets  mass_planets  \\\n",
       "0        0.1  0.077070  9268935.000         12.0      6.705383   \n",
       "1        0.1 -0.092791  3525593.500          8.0      2.725320   \n",
       "2        0.1  0.514770  9390406.000         12.0     10.749995   \n",
       "3        0.1  0.328146  1644710.625         23.0      6.397114   \n",
       "4        0.1 -0.220031  9468353.000         10.0      2.953130   \n",
       "\n",
       "   mass_efficiency  \n",
       "0        51.579871  \n",
       "1       143.437891  \n",
       "2       136.075885  \n",
       "3       639.711381  \n",
       "4        70.312617  "
      ]
     },
     "execution_count": 5,
     "metadata": {},
     "output_type": "execute_result"
    }
   ],
   "source": [
    "lowp_vars.head()"
   ]
  },
  {
   "cell_type": "code",
   "execution_count": 6,
   "metadata": {
    "collapsed": true
   },
   "outputs": [],
   "source": [
    "columns1=['emestar','rc','qest','sigmag_0','emed','gama','apert','fpert','constmigI','emetal','taugas']\n",
    "columns2=['num_planets','mass_planets','mass_efficiency']\n",
    "\n",
    "hn = pd.DataFrame(columns=columns1)\n",
    "ln = pd.DataFrame(columns=columns1)\n",
    "\n",
    "rhn = pd.DataFrame(columns=columns2)\n",
    "rln = pd.DataFrame(columns=columns2)\n"
   ]
  },
  {
   "cell_type": "code",
   "execution_count": 7,
   "metadata": {
    "collapsed": false
   },
   "outputs": [],
   "source": [
    "for i in range(len(columns1)):\n",
    "    hn[columns1[i]]=highp_vars[columns1[i]]/max(highp_vars[columns1[i]])\n",
    "    ln[columns1[i]]=lowp_vars[columns1[i]]/max(lowp_vars[columns1[i]])\n",
    "for i in range(len(columns2)):\n",
    "    rhn[columns2[i]]=highp_vars[columns2[i]]/max(highp_vars[columns2[i]])\n",
    "    rln[columns2[i]]=lowp_vars[columns2[i]]/max(lowp_vars[columns2[i]])"
   ]
  },
  {
   "cell_type": "code",
   "execution_count": 8,
   "metadata": {
    "collapsed": false,
    "scrolled": true
   },
   "outputs": [
    {
     "data": {
      "text/html": [
       "<div>\n",
       "<table border=\"1\" class=\"dataframe\">\n",
       "  <thead>\n",
       "    <tr style=\"text-align: right;\">\n",
       "      <th></th>\n",
       "      <th>emestar</th>\n",
       "      <th>rc</th>\n",
       "      <th>qest</th>\n",
       "      <th>sigmag_0</th>\n",
       "      <th>emed</th>\n",
       "      <th>gama</th>\n",
       "      <th>apert</th>\n",
       "      <th>fpert</th>\n",
       "      <th>constmigI</th>\n",
       "      <th>emetal</th>\n",
       "      <th>taugas</th>\n",
       "    </tr>\n",
       "  </thead>\n",
       "  <tbody>\n",
       "    <tr>\n",
       "      <th>0</th>\n",
       "      <td>0.364556</td>\n",
       "      <td>0.656938</td>\n",
       "      <td>0.023033</td>\n",
       "      <td>0.137702</td>\n",
       "      <td>0.406250</td>\n",
       "      <td>1.0</td>\n",
       "      <td>1.0</td>\n",
       "      <td>1.0</td>\n",
       "      <td>1.0</td>\n",
       "      <td>0.099482</td>\n",
       "      <td>0.928252</td>\n",
       "    </tr>\n",
       "    <tr>\n",
       "      <th>1</th>\n",
       "      <td>0.174851</td>\n",
       "      <td>0.439260</td>\n",
       "      <td>0.066394</td>\n",
       "      <td>0.045015</td>\n",
       "      <td>0.059375</td>\n",
       "      <td>1.0</td>\n",
       "      <td>1.0</td>\n",
       "      <td>1.0</td>\n",
       "      <td>1.0</td>\n",
       "      <td>-0.119776</td>\n",
       "      <td>0.353076</td>\n",
       "    </tr>\n",
       "    <tr>\n",
       "      <th>2</th>\n",
       "      <td>0.446904</td>\n",
       "      <td>0.445918</td>\n",
       "      <td>0.040755</td>\n",
       "      <td>0.181619</td>\n",
       "      <td>0.246875</td>\n",
       "      <td>1.0</td>\n",
       "      <td>1.0</td>\n",
       "      <td>1.0</td>\n",
       "      <td>1.0</td>\n",
       "      <td>0.664468</td>\n",
       "      <td>0.940417</td>\n",
       "    </tr>\n",
       "    <tr>\n",
       "      <th>3</th>\n",
       "      <td>0.301679</td>\n",
       "      <td>0.324060</td>\n",
       "      <td>0.198421</td>\n",
       "      <td>0.043530</td>\n",
       "      <td>0.031250</td>\n",
       "      <td>1.0</td>\n",
       "      <td>1.0</td>\n",
       "      <td>1.0</td>\n",
       "      <td>1.0</td>\n",
       "      <td>0.423572</td>\n",
       "      <td>0.164712</td>\n",
       "    </tr>\n",
       "    <tr>\n",
       "      <th>4</th>\n",
       "      <td>0.240847</td>\n",
       "      <td>0.671338</td>\n",
       "      <td>0.046257</td>\n",
       "      <td>0.042600</td>\n",
       "      <td>0.131250</td>\n",
       "      <td>1.0</td>\n",
       "      <td>1.0</td>\n",
       "      <td>1.0</td>\n",
       "      <td>1.0</td>\n",
       "      <td>-0.284017</td>\n",
       "      <td>0.948223</td>\n",
       "    </tr>\n",
       "  </tbody>\n",
       "</table>\n",
       "</div>"
      ],
      "text/plain": [
       "    emestar        rc      qest  sigmag_0      emed  gama  apert  fpert  \\\n",
       "0  0.364556  0.656938  0.023033  0.137702  0.406250   1.0    1.0    1.0   \n",
       "1  0.174851  0.439260  0.066394  0.045015  0.059375   1.0    1.0    1.0   \n",
       "2  0.446904  0.445918  0.040755  0.181619  0.246875   1.0    1.0    1.0   \n",
       "3  0.301679  0.324060  0.198421  0.043530  0.031250   1.0    1.0    1.0   \n",
       "4  0.240847  0.671338  0.046257  0.042600  0.131250   1.0    1.0    1.0   \n",
       "\n",
       "   constmigI    emetal    taugas  \n",
       "0        1.0  0.099482  0.928252  \n",
       "1        1.0 -0.119776  0.353076  \n",
       "2        1.0  0.664468  0.940417  \n",
       "3        1.0  0.423572  0.164712  \n",
       "4        1.0 -0.284017  0.948223  "
      ]
     },
     "execution_count": 8,
     "metadata": {},
     "output_type": "execute_result"
    }
   ],
   "source": [
    "hn.head()"
   ]
  },
  {
   "cell_type": "code",
   "execution_count": 9,
   "metadata": {
    "collapsed": false
   },
   "outputs": [
    {
     "data": {
      "text/html": [
       "<div>\n",
       "<table border=\"1\" class=\"dataframe\">\n",
       "  <thead>\n",
       "    <tr style=\"text-align: right;\">\n",
       "      <th></th>\n",
       "      <th>emestar</th>\n",
       "      <th>rc</th>\n",
       "      <th>qest</th>\n",
       "      <th>sigmag_0</th>\n",
       "      <th>emed</th>\n",
       "      <th>gama</th>\n",
       "      <th>apert</th>\n",
       "      <th>fpert</th>\n",
       "      <th>constmigI</th>\n",
       "      <th>emetal</th>\n",
       "      <th>taugas</th>\n",
       "    </tr>\n",
       "  </thead>\n",
       "  <tbody>\n",
       "    <tr>\n",
       "      <th>0</th>\n",
       "      <td>0.364556</td>\n",
       "      <td>0.656938</td>\n",
       "      <td>0.023033</td>\n",
       "      <td>0.137702</td>\n",
       "      <td>0.406250</td>\n",
       "      <td>1.0</td>\n",
       "      <td>1.0</td>\n",
       "      <td>1.0</td>\n",
       "      <td>1.0</td>\n",
       "      <td>0.099482</td>\n",
       "      <td>0.928252</td>\n",
       "    </tr>\n",
       "    <tr>\n",
       "      <th>1</th>\n",
       "      <td>0.174851</td>\n",
       "      <td>0.439260</td>\n",
       "      <td>0.066394</td>\n",
       "      <td>0.045015</td>\n",
       "      <td>0.059375</td>\n",
       "      <td>1.0</td>\n",
       "      <td>1.0</td>\n",
       "      <td>1.0</td>\n",
       "      <td>1.0</td>\n",
       "      <td>-0.119776</td>\n",
       "      <td>0.353076</td>\n",
       "    </tr>\n",
       "    <tr>\n",
       "      <th>2</th>\n",
       "      <td>0.446904</td>\n",
       "      <td>0.445918</td>\n",
       "      <td>0.040755</td>\n",
       "      <td>0.181619</td>\n",
       "      <td>0.246875</td>\n",
       "      <td>1.0</td>\n",
       "      <td>1.0</td>\n",
       "      <td>1.0</td>\n",
       "      <td>1.0</td>\n",
       "      <td>0.664468</td>\n",
       "      <td>0.940417</td>\n",
       "    </tr>\n",
       "    <tr>\n",
       "      <th>3</th>\n",
       "      <td>0.301679</td>\n",
       "      <td>0.324060</td>\n",
       "      <td>0.198421</td>\n",
       "      <td>0.043530</td>\n",
       "      <td>0.031250</td>\n",
       "      <td>1.0</td>\n",
       "      <td>1.0</td>\n",
       "      <td>1.0</td>\n",
       "      <td>1.0</td>\n",
       "      <td>0.423572</td>\n",
       "      <td>0.164712</td>\n",
       "    </tr>\n",
       "    <tr>\n",
       "      <th>4</th>\n",
       "      <td>0.240847</td>\n",
       "      <td>0.671338</td>\n",
       "      <td>0.046257</td>\n",
       "      <td>0.042600</td>\n",
       "      <td>0.131250</td>\n",
       "      <td>1.0</td>\n",
       "      <td>1.0</td>\n",
       "      <td>1.0</td>\n",
       "      <td>1.0</td>\n",
       "      <td>-0.284017</td>\n",
       "      <td>0.948223</td>\n",
       "    </tr>\n",
       "  </tbody>\n",
       "</table>\n",
       "</div>"
      ],
      "text/plain": [
       "    emestar        rc      qest  sigmag_0      emed  gama  apert  fpert  \\\n",
       "0  0.364556  0.656938  0.023033  0.137702  0.406250   1.0    1.0    1.0   \n",
       "1  0.174851  0.439260  0.066394  0.045015  0.059375   1.0    1.0    1.0   \n",
       "2  0.446904  0.445918  0.040755  0.181619  0.246875   1.0    1.0    1.0   \n",
       "3  0.301679  0.324060  0.198421  0.043530  0.031250   1.0    1.0    1.0   \n",
       "4  0.240847  0.671338  0.046257  0.042600  0.131250   1.0    1.0    1.0   \n",
       "\n",
       "   constmigI    emetal    taugas  \n",
       "0        1.0  0.099482  0.928252  \n",
       "1        1.0 -0.119776  0.353076  \n",
       "2        1.0  0.664468  0.940417  \n",
       "3        1.0  0.423572  0.164712  \n",
       "4        1.0 -0.284017  0.948223  "
      ]
     },
     "execution_count": 9,
     "metadata": {},
     "output_type": "execute_result"
    }
   ],
   "source": [
    "ln.head()"
   ]
  },
  {
   "cell_type": "code",
   "execution_count": 10,
   "metadata": {
    "collapsed": false
   },
   "outputs": [],
   "source": [
    "class Neural_Network(object):\n",
    "    def __init__(self):        \n",
    "        #Define Hyperparameters\n",
    "        self.inputLayerSize = len(columns1)\n",
    "        self.outputLayerSize = 1\n",
    "        self.hiddenLayerSize = 3\n",
    "        \n",
    "        #Weights (parameters)\n",
    "        self.W1 = np.random.randn(self.inputLayerSize, self.hiddenLayerSize)\n",
    "        self.W2 = np.random.randn(self.hiddenLayerSize, self.outputLayerSize)\n",
    "        \n",
    "    def forward(self, X):\n",
    "        #Propagate inputs though network\n",
    "        self.z2 = np.dot(X, self.W1)\n",
    "        self.a2 = self.sigmoid(self.z2)\n",
    "        self.z3 = np.dot(self.a2, self.W2)\n",
    "        yHat = self.sigmoid(self.z3) \n",
    "        return yHat\n",
    "        \n",
    "    def sigmoid(self, z):\n",
    "        #Apply sigmoid activation function to scalar, vector, or matrix\n",
    "        return 1/(1+np.exp(-z))\n",
    "    def sigmoidPrime(self,z):\n",
    "        #Gradient of sigmoid\n",
    "        return np.exp(-z)/((1+np.exp(-z))**2)\n",
    "    \n",
    "    def costFunction(self, X, y):\n",
    "        #Compute cost for given X,y, use weights already stored in class.\n",
    "        self.yHat = self.forward(X)\n",
    "        J = 0.5*sum((y-self.yHat)**2)\n",
    "        return J\n",
    "        \n",
    "    def costFunctionPrime(self, X, y):\n",
    "        #Compute derivative with respect to W and W2 for a given X and y:\n",
    "        #Tracer()()\n",
    "        self.yHat = self.forward(X) \n",
    "        delta3 = np.multiply(-(y-self.yHat), self.sigmoidPrime(self.z3))\n",
    "        dJdW2 = np.dot(self.a2.T, delta3)\n",
    "        \n",
    "        delta2 = np.dot(delta3, self.W2.T)*self.sigmoidPrime(self.z2)\n",
    "        dJdW1 = np.dot(X.T, delta2)  \n",
    "        \n",
    "        return dJdW1,dJdW2\n",
    "    #Helper Functions for interacting with other classes:\n",
    "    def getParams(self):\n",
    "        #Get W1 and W2 unrolled into vector:\n",
    "        params = np.concatenate((self.W1.ravel(), self.W2.ravel()))\n",
    "        return params\n",
    "    \n",
    "    def setParams(self, params):\n",
    "        #Set W1 and W2 using single paramater vector.\n",
    "\n",
    "        W1_start = 0\n",
    "        W1_end = self.hiddenLayerSize * self.inputLayerSize\n",
    "        self.W1 = np.reshape(params[W1_start:W1_end], (self.inputLayerSize , self.hiddenLayerSize))\n",
    "        W2_end = W1_end + self.hiddenLayerSize*self.outputLayerSize\n",
    "        self.W2 = np.reshape(params[W1_end:W2_end], (self.hiddenLayerSize, self.outputLayerSize))\n",
    "        \n",
    "    def computeGradients(self, X, y):\n",
    "        dJdW1, dJdW2 = self.costFunctionPrime(X, y)\n",
    "        return np.concatenate((dJdW1.ravel(), dJdW2.ravel()))"
   ]
  },
  {
   "cell_type": "code",
   "execution_count": 74,
   "metadata": {
    "collapsed": false
   },
   "outputs": [],
   "source": [
    "class trainer(object):\n",
    "    def __init__(self, N):\n",
    "        #Make Local reference to network:\n",
    "        self.N = N\n",
    "        \n",
    "    def callbackF(self, params):\n",
    "        self.N.setParams(params)\n",
    "        self.J.append(self.N.costFunction(self.X, self.y))\n",
    "        self.testJ.append(self.N.costFunction(self.testX, self.testY))\n",
    "        \n",
    "    def costFunctionWrapper(self, params, X, y):\n",
    "        self.N.setParams(params)\n",
    "        cost = self.N.costFunction(X, y)\n",
    "        grad = self.N.computeGradients(X,y)\n",
    "        \n",
    "        return cost, grad\n",
    "        \n",
    "    def train(self, trainX, trainY, testX, testY):\n",
    "        #Make an internal variable for the callback function:\n",
    "        self.X = trainX\n",
    "        self.y = trainY\n",
    "        \n",
    "        self.testX = testX\n",
    "        self.testY = testY\n",
    "\n",
    "        #Make empty list to store training costs:\n",
    "        self.J = []\n",
    "        self.testJ = []\n",
    "        \n",
    "        params0 = self.N.getParams()\n",
    "\n",
    "        options = {'maxiter': 200, 'disp' : True}\n",
    "        _res = optimize.minimize(self.costFunctionWrapper, params0, jac=True, method='BFGS', \\\n",
    "                                 args=(trainX, trainY), options=options, callback=self.callbackF)\n",
    "\n",
    "        self.N.setParams(_res.x)\n",
    "        self.optimizationResults = _res\n"
   ]
  },
  {
   "cell_type": "code",
   "execution_count": 21,
   "metadata": {
    "collapsed": false
   },
   "outputs": [],
   "source": [
    "y=np.zeros((len(rhn['num_planets']),1))\n",
    "for i in range(len(rhn['num_planets'])):\n",
    "    y[i]=rhn['num_planets'][i]"
   ]
  },
  {
   "cell_type": "code",
   "execution_count": 22,
   "metadata": {
    "collapsed": false
   },
   "outputs": [],
   "source": [
    "x=np.zeros((len(hn),len(columns1)))\n",
    "for i in range(len(columns1)-1):\n",
    "    for j in range(0,len(hn[columns1[i]])):\n",
    "        x[j,i]=hn[columns1[i]][j]"
   ]
  },
  {
   "cell_type": "code",
   "execution_count": 29,
   "metadata": {
    "collapsed": false
   },
   "outputs": [],
   "source": [
    "NN=Neural_Network()\n",
    "T=trainer(NN)"
   ]
  },
  {
   "cell_type": "code",
   "execution_count": 31,
   "metadata": {
    "collapsed": false,
    "scrolled": true
   },
   "outputs": [
    {
     "name": "stdout",
     "output_type": "stream",
     "text": [
      "Warning: Maximum number of iterations has been exceeded.\n",
      "         Current function value: 20.808778\n",
      "         Iterations: 200\n",
      "         Function evaluations: 227\n",
      "         Gradient evaluations: 227\n"
     ]
    }
   ],
   "source": [
    "T.train(x,y)"
   ]
  },
  {
   "cell_type": "code",
   "execution_count": 38,
   "metadata": {
    "collapsed": false,
    "scrolled": true
   },
   "outputs": [
    {
     "data": {
      "text/plain": [
       "[<matplotlib.lines.Line2D at 0x7fadfa22e358>]"
      ]
     },
     "execution_count": 38,
     "metadata": {},
     "output_type": "execute_result"
    },
    {
     "data": {
      "image/png": "[encoded data removed]",
      "text/plain": [
       "<matplotlib.figure.Figure at 0x7fadfa371be0>"
      ]
     },
     "metadata": {},
     "output_type": "display_data"
    }
   ],
   "source": [
    "plt.plot(T.J)"
   ]
  },
  {
   "cell_type": "code",
   "execution_count": 42,
   "metadata": {
    "collapsed": false,
    "scrolled": true
   },
   "outputs": [
    {
     "data": {
      "text/plain": [
       "<matplotlib.collections.PathCollection at 0x7fadf9ce3da0>"
      ]
     },
     "execution_count": 42,
     "metadata": {},
     "output_type": "execute_result"
    },
    {
     "data": {
      "image/png": "[encoded data removed]",
      "text/plain": [
       "<matplotlib.figure.Figure at 0x7fadfa2194a8>"
      ]
     },
     "metadata": {},
     "output_type": "display_data"
    }
   ],
   "source": [
    "plt.scatter(NN.forward(x),y)"
   ]
  },
  {
   "cell_type": "code",
   "execution_count": 43,
   "metadata": {
    "collapsed": false
   },
   "outputs": [
    {
     "data": {
      "text/plain": [
       "array([[ 0.40101077],\n",
       "       [ 0.48228326],\n",
       "       [ 0.40019661],\n",
       "       ..., \n",
       "       [ 0.00353632],\n",
       "       [ 0.4613683 ],\n",
       "       [ 0.49855473]])"
      ]
     },
     "execution_count": 43,
     "metadata": {},
     "output_type": "execute_result"
    }
   ],
   "source": [
    "NN.forward(x)"
   ]
  },
  {
   "cell_type": "code",
   "execution_count": 44,
   "metadata": {
    "collapsed": false
   },
   "outputs": [
    {
     "data": {
      "text/plain": [
       "array([[ 0.42307692],\n",
       "       [ 0.5       ],\n",
       "       [ 0.34615385],\n",
       "       ..., \n",
       "       [ 0.        ],\n",
       "       [ 0.38461538],\n",
       "       [ 0.34615385]])"
      ]
     },
     "execution_count": 44,
     "metadata": {},
     "output_type": "execute_result"
    }
   ],
   "source": [
    "y"
   ]
  },
  {
   "cell_type": "markdown",
   "metadata": {},
   "source": [
    "# lets train"
   ]
  },
  {
   "cell_type": "code",
   "execution_count": 48,
   "metadata": {
    "collapsed": true
   },
   "outputs": [],
   "source": [
    "X_train, X_test, Y_train, Y_test = train_test_split(hn, rhn, random_state=1)"
   ]
  },
  {
   "cell_type": "code",
   "execution_count": 55,
   "metadata": {
    "collapsed": true
   },
   "outputs": [],
   "source": [
    "x_train= X_train.as_matrix()\n",
    "x_test = X_test.as_matrix()\n",
    "y_train= Y_train.as_matrix()\n",
    "y_test = Y_test.as_matrix()"
   ]
  },
  {
   "cell_type": "code",
   "execution_count": 56,
   "metadata": {
    "collapsed": false,
    "scrolled": true
   },
   "outputs": [
    {
     "data": {
      "text/html": [
       "<div>\n",
       "<table border=\"1\" class=\"dataframe\">\n",
       "  <thead>\n",
       "    <tr style=\"text-align: right;\">\n",
       "      <th></th>\n",
       "      <th>num_planets</th>\n",
       "      <th>mass_planets</th>\n",
       "      <th>mass_efficiency</th>\n",
       "    </tr>\n",
       "  </thead>\n",
       "  <tbody>\n",
       "    <tr>\n",
       "      <th>2909</th>\n",
       "      <td>0.538462</td>\n",
       "      <td>0.000219</td>\n",
       "      <td>0.002427</td>\n",
       "    </tr>\n",
       "    <tr>\n",
       "      <th>1994</th>\n",
       "      <td>0.423077</td>\n",
       "      <td>0.086385</td>\n",
       "      <td>0.296126</td>\n",
       "    </tr>\n",
       "    <tr>\n",
       "      <th>635</th>\n",
       "      <td>0.346154</td>\n",
       "      <td>0.000091</td>\n",
       "      <td>0.003384</td>\n",
       "    </tr>\n",
       "    <tr>\n",
       "      <th>720</th>\n",
       "      <td>0.000000</td>\n",
       "      <td>0.000000</td>\n",
       "      <td>0.000000</td>\n",
       "    </tr>\n",
       "    <tr>\n",
       "      <th>254</th>\n",
       "      <td>0.653846</td>\n",
       "      <td>0.000177</td>\n",
       "      <td>0.001963</td>\n",
       "    </tr>\n",
       "  </tbody>\n",
       "</table>\n",
       "</div>"
      ],
      "text/plain": [
       "      num_planets  mass_planets  mass_efficiency\n",
       "2909     0.538462      0.000219         0.002427\n",
       "1994     0.423077      0.086385         0.296126\n",
       "635      0.346154      0.000091         0.003384\n",
       "720      0.000000      0.000000         0.000000\n",
       "254      0.653846      0.000177         0.001963"
      ]
     },
     "execution_count": 56,
     "metadata": {},
     "output_type": "execute_result"
    }
   ],
   "source": [
    "Y_train.head()"
   ]
  },
  {
   "cell_type": "code",
   "execution_count": 62,
   "metadata": {
    "collapsed": false
   },
   "outputs": [
    {
     "data": {
      "text/plain": [
       "array([[ 0.53846154],\n",
       "       [ 0.42307692],\n",
       "       [ 0.34615385],\n",
       "       ..., \n",
       "       [ 0.        ],\n",
       "       [ 0.61538462],\n",
       "       [ 0.46153846]])"
      ]
     },
     "execution_count": 62,
     "metadata": {},
     "output_type": "execute_result"
    }
   ],
   "source": [
    "np.transpose(y_train[:,0]).reshape(len(y_train),1)"
   ]
  },
  {
   "cell_type": "code",
   "execution_count": 63,
   "metadata": {
    "collapsed": false
   },
   "outputs": [
    {
     "name": "stdout",
     "output_type": "stream",
     "text": [
      "Warning: Maximum number of iterations has been exceeded.\n",
      "         Current function value: 13.256206\n",
      "         Iterations: 200\n",
      "         Function evaluations: 219\n",
      "         Gradient evaluations: 219\n"
     ]
    }
   ],
   "source": [
    "T.train(x_train,np.transpose(y_train[:,0]).reshape(len(y_train),1))"
   ]
  },
  {
   "cell_type": "code",
   "execution_count": 64,
   "metadata": {
    "collapsed": false
   },
   "outputs": [
    {
     "data": {
      "text/plain": [
       "[<matplotlib.lines.Line2D at 0x7fadfa0a7dd8>]"
      ]
     },
     "execution_count": 64,
     "metadata": {},
     "output_type": "execute_result"
    },
    {
     "data": {
      "image/png": "[encoded data removed]",
      "text/plain": [
       "<matplotlib.figure.Figure at 0x7fadf9ceae10>"
      ]
     },
     "metadata": {},
     "output_type": "display_data"
    }
   ],
   "source": [
    "plt.plot(T.J)"
   ]
  },
  {
   "cell_type": "code",
   "execution_count": 72,
   "metadata": {
    "collapsed": false
   },
   "outputs": [
    {
     "data": {
      "text/plain": [
       "(-0.034855006830200298,\n",
       " 0.5348560599922999,\n",
       " -0.065176600441501115,\n",
       " 1.0651766004415011)"
      ]
     },
     "execution_count": 72,
     "metadata": {},
     "output_type": "execute_result"
    },
    {
     "data": {
      "image/png": "[encoded data removed]",
      "text/plain": [
       "<matplotlib.figure.Figure at 0x7fadf9e62278>"
      ]
     },
     "metadata": {},
     "output_type": "display_data"
    }
   ],
   "source": [
    "plt.scatter(NN.forward(x_train),y_train[:,0])\n",
    "plt.axis('equal')"
   ]
  },
  {
   "cell_type": "markdown",
   "metadata": {},
   "source": [
    "# real train"
   ]
  },
  {
   "cell_type": "code",
   "execution_count": 87,
   "metadata": {
    "collapsed": true
   },
   "outputs": [],
   "source": [
    "NN=Neural_Network()\n",
    "T=trainer(NN)"
   ]
  },
  {
   "cell_type": "code",
   "execution_count": 88,
   "metadata": {
    "collapsed": false
   },
   "outputs": [
    {
     "name": "stdout",
     "output_type": "stream",
     "text": [
      "Warning: Maximum number of iterations has been exceeded.\n",
      "         Current function value: 8.281236\n",
      "         Iterations: 200\n",
      "         Function evaluations: 209\n",
      "         Gradient evaluations: 209\n"
     ]
    }
   ],
   "source": [
    "T.train(x_train,np.transpose(y_train[:,0]).reshape(len(y_train),1),x_test,np.transpose(y_test[:,0]).reshape(len(y_test),1))"
   ]
  },
  {
   "cell_type": "code",
   "execution_count": 89,
   "metadata": {
    "collapsed": false
   },
   "outputs": [
    {
     "data": {
      "text/plain": [
       "<matplotlib.text.Text at 0x7fadf97b6710>"
      ]
     },
     "execution_count": 89,
     "metadata": {},
     "output_type": "execute_result"
    },
    {
     "data": {
      "image/png": "[encoded data removed]",
      "text/plain": [
       "<matplotlib.figure.Figure at 0x7fadf9d57668>"
      ]
     },
     "metadata": {},
     "output_type": "display_data"
    }
   ],
   "source": [
    "#Plot cost during training:\n",
    "plt.plot(T.J)\n",
    "plt.plot(T.testJ)\n",
    "plt.grid(1)\n",
    "plt.xlabel('Iterations')\n",
    "plt.ylabel('Cost')"
   ]
  },
  {
   "cell_type": "code",
   "execution_count": 93,
   "metadata": {
    "collapsed": false
   },
   "outputs": [
    {
     "data": {
      "text/plain": [
       "<matplotlib.collections.PathCollection at 0x7fadf9ea9e48>"
      ]
     },
     "execution_count": 93,
     "metadata": {},
     "output_type": "execute_result"
    },
    {
     "data": {
      "image/png": "[encoded data removed]",
      "text/plain": [
       "<matplotlib.figure.Figure at 0x7fadfa0772b0>"
      ]
     },
     "metadata": {},
     "output_type": "display_data"
    }
   ],
   "source": [
    "plt.scatter(NN.forward(x_train),y_train[:,0])"
   ]
  },
  {
   "cell_type": "code",
   "execution_count": null,
   "metadata": {
    "collapsed": true
   },
   "outputs": [],
   "source": []
  }
 ],
 "metadata": {
  "kernelspec": {
   "display_name": "Python 3",
   "language": "python",
   "name": "python3"
  },
  "language_info": {
   "codemirror_mode": {
    "name": "ipython",
    "version": 3
   },
   "file_extension": ".py",
   "mimetype": "text/x-python",
   "name": "python",
   "nbconvert_exporter": "python",
   "pygments_lexer": "ipython3",
   "version": "3.5.3"
  }
 },
 "nbformat": 4,
 "nbformat_minor": 2
}
