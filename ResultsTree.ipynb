{
 "cells": [
  {
   "cell_type": "code",
   "execution_count": null,
   "metadata": {
    "collapsed": true
   },
   "outputs": [],
   "source": [
    "from IPython.display import Image"
   ]
  },
  {
   "cell_type": "markdown",
   "metadata": {},
   "source": [
    "# Análisis Previo de la información\n",
    "\n",
    "Como análisis previo de la información se graficaron los párametros buscados (número de planetas, masa total de los planetas y eficiencia de masa) como función de los páramatros de entrada.\n",
    "\n",
    "![](lowp_plot1.png)\n",
    "![](lowp_plot2.png)\n",
    "![](lowp_plot3.png)\n",
    "\n",
    "De estas graficas notamos que hay 4 párametros (gama,apert,fpert,constmigI) de entrada que no producen ningún efecto sobre la predicción que queremos realizar, de modo que al ignorar estos párametros se obtienen las siguientes gráficas.\n",
    "\n",
    "![](lowp_plot_wo1.png)\n",
    "![](lowp_plot_wo2.png)\n",
    "![](lowp_plot_wo3.png)\n",
    "\n",
    "# Random Forest \n",
    "\n",
    "Se utilizaron dos ensambles de Random Forest para estimar los valores de enetrada más relevantes en la predicción del número de planetas, masa total de los planetas y la eficiencia de masa. El primer ensamble es un ensamble regresor, el segudo es un ensamble clasificador.\n",
    "\n",
    "\n",
    "## RandomForestRegressor\n",
    "\n",
    "Utilizando este ensmble y considerando como \n",
    "\n"
   ]
  },
  {
   "cell_type": "code",
   "execution_count": null,
   "metadata": {
    "collapsed": true
   },
   "outputs": [],
   "source": []
  }
 ],
 "metadata": {
  "kernelspec": {
   "display_name": "Python 3",
   "language": "python",
   "name": "python3"
  },
  "language_info": {
   "codemirror_mode": {
    "name": "ipython",
    "version": 3
   },
   "file_extension": ".py",
   "mimetype": "text/x-python",
   "name": "python",
   "nbconvert_exporter": "python",
   "pygments_lexer": "ipython3",
   "version": "3.4.2"
  }
 },
 "nbformat": 4,
 "nbformat_minor": 2
}
