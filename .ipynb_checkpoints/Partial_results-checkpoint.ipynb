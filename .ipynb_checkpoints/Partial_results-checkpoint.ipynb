{
 "cells": [
  {
   "cell_type": "code",
   "execution_count": 1,
   "metadata": {
    "collapsed": true
   },
   "outputs": [],
   "source": [
    "from IPython.display import Image"
   ]
  },
  {
   "cell_type": "markdown",
   "metadata": {},
   "source": [
    "# System characteristics Prediction\n",
    "\n",
    "Para la elaboración de la AI se probaron diversos métodos variando sus principales características. No siempre se probaron ambos archivos, y no siempre se generaron datos de train y test a menos que el método utilizado mostrara una exactitud considerable. A continuación, los resultados resumidos. Para todos los casos las variables de entrada están regularizadas por el scaler de sklearn. \n",
    "\n",
    "Para los métodos de clasificación, las variables no enteras de salida se approximan a 1 decimal y se multiplican por 10.\n",
    "\n",
    "## SVM\n",
    "\n",
    "Para SVM se probaron los 3 kernels variando el parámetro C, el orden y el valor gamma para los kernels lineal, polinómico y gaussiano respectivamente. Sólo se muestran los resultados para el archivo de altas perturbaciones, aunque para el de baja perturbación no se observaron mejorías notorias.\n",
    "\n",
    "### Linear Kernel\n",
    "Se toman 20 valores de C equiespaciados con 5 folds para el cross-validation\n",
    "![](LinearK_HighP_1decimal.png)\n",
    "\n",
    "### Poly kernel\n",
    "Se toman 20 valores de gamma equiespaciados con 5 folds para el cross-validation\n",
    "![](PolyK_HighP_1decimal.png)\n",
    "\n",
    "### Gaussian kernel\n",
    "Se toman 10 órdenes del polinomio equiespaciados con 5 folds para el cross-validation\n",
    "![](GaussianK_HighP_1decimal.png)\n",
    "\n",
    "## Lasso\n",
    "Para Lasso se toman 40 valores de alpha logespaciados entre $1\\times10^{-4}-1\\times10^{3}$ con 5 folds para el cross-validation\n",
    "![](Lasso_HighP.png)\n",
    "\n",
    "## Neural Network SkLearn\n",
    "\n",
    "Para la red neuronal se prueban los algoritmos de backpropagation de lbfgs y sgd, para diferentes combinaciones de capas ocultas de neuronas. Se disminuyen los folds (3 o 2) y se varía el valor de alpha.\n",
    "\n",
    "### L-BFGS\n",
    "2 capas ocultas de 8 neuronas, 3 folds, valores logespaciados de alpha entre $1\\times10^{-4}-1\\times10^{3}$\n",
    "![](NN_8x2_Lowp_3fold_lbfgs.png)\n",
    "\n",
    "### SGD\n",
    "3 capas ocultas de 10 neuronas, 2 folds, valores logespaciados de alpha entre $1\\times10^{-4}-1\\times10^{1}$\n",
    "![](NN_10x3_Lowp_2fold_sgd.png)\n"
   ]
  },
  {
   "cell_type": "code",
   "execution_count": null,
   "metadata": {
    "collapsed": true
   },
   "outputs": [],
   "source": []
  }
 ],
 "metadata": {
  "kernelspec": {
   "display_name": "Python 2",
   "language": "python",
   "name": "python2"
  },
  "language_info": {
   "codemirror_mode": {
    "name": "ipython",
    "version": 2
   },
   "file_extension": ".py",
   "mimetype": "text/x-python",
   "name": "python",
   "nbconvert_exporter": "python",
   "pygments_lexer": "ipython2",
   "version": "2.7.13"
  }
 },
 "nbformat": 4,
 "nbformat_minor": 2
}
