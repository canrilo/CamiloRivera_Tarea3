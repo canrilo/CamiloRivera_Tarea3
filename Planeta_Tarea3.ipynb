{
 "cells": [
  {
   "cell_type": "code",
   "execution_count": 3,
   "metadata": {
    "collapsed": true
   },
   "outputs": [],
   "source": [
    "import pandas as pd\n",
    "import numpy as np\n",
    "import matplotlib.pyplot as plt\n",
    "from sklearn import svm\n",
    "from sklearn import datasets\n",
    "from sklearn.datasets import make_classification\n",
    "from sklearn.datasets import make_blobs, make_moons, make_circles\n",
    "from sklearn.model_selection import train_test_split\n",
    "from sklearn import preprocessing\n",
    "from sklearn.model_selection import cross_val_score\n",
    "from sklearn.metrics import confusion_matrix\n",
    "%matplotlib inline"
   ]
  },
  {
   "cell_type": "code",
   "execution_count": 18,
   "metadata": {
    "collapsed": false
   },
   "outputs": [],
   "source": [
    "highPerturbation = pd.read_csv('./highp_finalresults.csv')#, index_col=0)\n",
    "lowPerturbation = pd.read_csv('./lowp_finalresults.csv')#, index_col=0)"
   ]
  },
  {
   "cell_type": "markdown",
   "metadata": {},
   "source": [
    "## Primero se realiza un análisis individual de cada sistema para extraer la información"
   ]
  },
  {
   "cell_type": "code",
   "execution_count": 20,
   "metadata": {
    "collapsed": false,
    "scrolled": true
   },
   "outputs": [],
   "source": [
    "columns=['ident','emestar','rc','qest','sigmag_0','emed','gama','apert','fpert','constmigI','emetal','taugas',\\\n",
    "        'num_planets','mass_planets','mass_efficiency']\n",
    "\n",
    "#High Perturbation System Analysis\n",
    "Num_systh = highPerturbation['ident'].values[-1]+1\n",
    "highp_vars = pd.DataFrame(columns=columns)\n",
    "for i in range(Num_systh):\n",
    "    Current_syst = highPerturbation[highPerturbation['ident'].values==i]\n",
    "    planets=np.shape(Current_syst)[0]\n",
    "    \n",
    "    if(planets>0):\n",
    "        initials=Current_syst[columns[:12]].values[0]\n",
    "        planets=np.shape(Current_syst)[0]\n",
    "        row_vals=np.append(initials,planets)\n",
    "\n",
    "        planet_mass=np.sum(Current_syst['emepla(i)/emet'].values)\n",
    "        row_vals=np.append(row_vals,planet_mass)\n",
    "\n",
    "        eff=planet_mass/Current_syst['emed'].values[0]\n",
    "        row_vals=np.append(row_vals,eff)\n",
    "    else:\n",
    "        row_vals=np.array([0,0,0,0,0,0,0,0,0,0,0,0,0,0,0])\n",
    "    \n",
    "    highp_vars.loc[i]=row_vals\n",
    "    \n",
    "    \n",
    "#Low Perturbation System Analysis\n",
    "Num_systl = lowPerturbation['ident'].values[-1]+1\n",
    "lowp_vars = pd.DataFrame(columns=columns)\n",
    "for i in range(Num_systl):\n",
    "    Current_syst = lowPerturbation[lowPerturbation['ident'].values==i]\n",
    "    planets=np.shape(Current_syst)[0]\n",
    "    \n",
    "    if(planets>0):\n",
    "        initials=Current_syst[columns[:12]].values[0]\n",
    "        planets=np.shape(Current_syst)[0]\n",
    "        row_vals=np.append(initials,planets)\n",
    "\n",
    "        planet_mass=np.sum(Current_syst['emepla(i)/emet'].values)\n",
    "        row_vals=np.append(row_vals,planet_mass)\n",
    "\n",
    "        eff=planet_mass/Current_syst['emed'].values[0]\n",
    "        row_vals=np.append(row_vals,eff)\n",
    "    else:\n",
    "        row_vals=np.array([0,0,0,0,0,0,0,0,0,0,0,0,0,0,0])\n",
    "    \n",
    "    lowp_vars.loc[i]=row_vals"
   ]
  },
  {
   "cell_type": "code",
   "execution_count": 21,
   "metadata": {
    "collapsed": false,
    "scrolled": false
   },
   "outputs": [
    {
     "data": {
      "text/html": [
       "<div style=\"max-height:1000px;max-width:1500px;overflow:auto;\">\n",
       "<table border=\"1\" class=\"dataframe\">\n",
       "  <thead>\n",
       "    <tr style=\"text-align: right;\">\n",
       "      <th></th>\n",
       "      <th>ident</th>\n",
       "      <th>emestar</th>\n",
       "      <th>rc</th>\n",
       "      <th>qest</th>\n",
       "      <th>sigmag_0</th>\n",
       "      <th>emed</th>\n",
       "      <th>gama</th>\n",
       "      <th>apert</th>\n",
       "      <th>fpert</th>\n",
       "      <th>constmigI</th>\n",
       "      <th>emetal</th>\n",
       "      <th>taugas</th>\n",
       "      <th>num_planets</th>\n",
       "      <th>mass_planets</th>\n",
       "      <th>mass_efficiency</th>\n",
       "    </tr>\n",
       "  </thead>\n",
       "  <tbody>\n",
       "    <tr>\n",
       "      <th>0</th>\n",
       "      <td> 0</td>\n",
       "      <td> 4.368174e+32</td>\n",
       "      <td> 59.88237</td>\n",
       "      <td> 1.110726</td>\n",
       "      <td> 51.28767</td>\n",
       "      <td>  0.13</td>\n",
       "      <td> 1</td>\n",
       "      <td> 0.1</td>\n",
       "      <td> 1</td>\n",
       "      <td> 0.1</td>\n",
       "      <td> 0.07707005</td>\n",
       "      <td> 9268935</td>\n",
       "      <td> 12</td>\n",
       "      <td> 6.705383</td>\n",
       "      <td> 51.57987</td>\n",
       "    </tr>\n",
       "    <tr>\n",
       "      <th>1</th>\n",
       "      <td> 1</td>\n",
       "      <td> 2.095099e+32</td>\n",
       "      <td>  40.0402</td>\n",
       "      <td> 3.201758</td>\n",
       "      <td> 16.76598</td>\n",
       "      <td> 0.019</td>\n",
       "      <td> 1</td>\n",
       "      <td> 0.1</td>\n",
       "      <td> 1</td>\n",
       "      <td> 0.1</td>\n",
       "      <td>-0.09279143</td>\n",
       "      <td> 3525594</td>\n",
       "      <td>  8</td>\n",
       "      <td>  2.72532</td>\n",
       "      <td> 143.4379</td>\n",
       "    </tr>\n",
       "    <tr>\n",
       "      <th>2</th>\n",
       "      <td> 2</td>\n",
       "      <td>  5.35489e+32</td>\n",
       "      <td> 40.64716</td>\n",
       "      <td> 1.965345</td>\n",
       "      <td> 67.64477</td>\n",
       "      <td> 0.079</td>\n",
       "      <td> 1</td>\n",
       "      <td> 0.1</td>\n",
       "      <td> 1</td>\n",
       "      <td> 0.1</td>\n",
       "      <td>  0.5147697</td>\n",
       "      <td> 9390406</td>\n",
       "      <td> 12</td>\n",
       "      <td> 10.74999</td>\n",
       "      <td> 136.0759</td>\n",
       "    </tr>\n",
       "    <tr>\n",
       "      <th>3</th>\n",
       "      <td> 3</td>\n",
       "      <td> 3.614768e+32</td>\n",
       "      <td> 29.53934</td>\n",
       "      <td> 9.568532</td>\n",
       "      <td>  16.2131</td>\n",
       "      <td>  0.01</td>\n",
       "      <td> 1</td>\n",
       "      <td> 0.1</td>\n",
       "      <td> 1</td>\n",
       "      <td> 0.1</td>\n",
       "      <td>  0.3281458</td>\n",
       "      <td> 1644711</td>\n",
       "      <td> 23</td>\n",
       "      <td> 6.397114</td>\n",
       "      <td> 639.7114</td>\n",
       "    </tr>\n",
       "    <tr>\n",
       "      <th>4</th>\n",
       "      <td> 4</td>\n",
       "      <td> 2.885875e+32</td>\n",
       "      <td> 61.19504</td>\n",
       "      <td> 2.230675</td>\n",
       "      <td> 15.86662</td>\n",
       "      <td> 0.042</td>\n",
       "      <td> 1</td>\n",
       "      <td> 0.1</td>\n",
       "      <td> 1</td>\n",
       "      <td> 0.1</td>\n",
       "      <td> -0.2200311</td>\n",
       "      <td> 9468353</td>\n",
       "      <td> 10</td>\n",
       "      <td>  2.95313</td>\n",
       "      <td> 70.31262</td>\n",
       "    </tr>\n",
       "  </tbody>\n",
       "</table>\n",
       "</div>"
      ],
      "text/plain": [
       "  ident       emestar        rc      qest  sigmag_0   emed gama apert fpert  \\\n",
       "0     0  4.368174e+32  59.88237  1.110726  51.28767   0.13    1   0.1     1   \n",
       "1     1  2.095099e+32   40.0402  3.201758  16.76598  0.019    1   0.1     1   \n",
       "2     2   5.35489e+32  40.64716  1.965345  67.64477  0.079    1   0.1     1   \n",
       "3     3  3.614768e+32  29.53934  9.568532   16.2131   0.01    1   0.1     1   \n",
       "4     4  2.885875e+32  61.19504  2.230675  15.86662  0.042    1   0.1     1   \n",
       "\n",
       "  constmigI      emetal   taugas num_planets mass_planets mass_efficiency  \n",
       "0       0.1  0.07707005  9268935          12     6.705383        51.57987  \n",
       "1       0.1 -0.09279143  3525594           8      2.72532        143.4379  \n",
       "2       0.1   0.5147697  9390406          12     10.74999        136.0759  \n",
       "3       0.1   0.3281458  1644711          23     6.397114        639.7114  \n",
       "4       0.1  -0.2200311  9468353          10      2.95313        70.31262  "
      ]
     },
     "execution_count": 21,
     "metadata": {},
     "output_type": "execute_result"
    }
   ],
   "source": [
    "lowp_vars.head()"
   ]
  },
  {
   "cell_type": "code",
   "execution_count": 73,
   "metadata": {
    "collapsed": false,
    "scrolled": false
   },
   "outputs": [
    {
     "name": "stderr",
     "output_type": "stream",
     "text": [
      "/usr/local/lib/python3.4/dist-packages/sklearn/utils/validation.py:395: DeprecationWarning: Passing 1d arrays as data is deprecated in 0.17 and will raise ValueError in 0.19. Reshape your data either using X.reshape(-1, 1) if your data has a single feature or X.reshape(1, -1) if it contains a single sample.\n",
      "  DeprecationWarning)\n"
     ]
    },
    {
     "ename": "ValueError",
     "evalue": "Unknown label type: 'unknown'",
     "output_type": "error",
     "traceback": [
      "\u001b[0;31m---------------------------------------------------------------------------\u001b[0m",
      "\u001b[0;31mValueError\u001b[0m                                Traceback (most recent call last)",
      "\u001b[0;32m<ipython-input-73-2c65410d3116>\u001b[0m in \u001b[0;36m<module>\u001b[0;34m()\u001b[0m\n\u001b[1;32m     11\u001b[0m     \u001b[0;32mfor\u001b[0m \u001b[0mval\u001b[0m \u001b[0;32min\u001b[0m \u001b[0mtarget\u001b[0m\u001b[0;34m:\u001b[0m\u001b[0;34m\u001b[0m\u001b[0m\n\u001b[1;32m     12\u001b[0m         \u001b[0mrf\u001b[0m \u001b[0;34m=\u001b[0m \u001b[0mRandomForestClassifier\u001b[0m\u001b[0;34m(\u001b[0m\u001b[0mn_estimators\u001b[0m\u001b[0;34m=\u001b[0m\u001b[0;36m50\u001b[0m\u001b[0;34m)\u001b[0m\u001b[0;34m\u001b[0m\u001b[0m\n\u001b[0;32m---> 13\u001b[0;31m         \u001b[0mrf\u001b[0m\u001b[0;34m.\u001b[0m\u001b[0mfit\u001b[0m\u001b[0;34m(\u001b[0m\u001b[0mlowp_vars\u001b[0m\u001b[0;34m[\u001b[0m\u001b[0mvar\u001b[0m\u001b[0;34m]\u001b[0m\u001b[0;34m[\u001b[0m\u001b[0;34m:\u001b[0m\u001b[0;36m200\u001b[0m\u001b[0;34m]\u001b[0m\u001b[0;34m,\u001b[0m \u001b[0mlowp_vars\u001b[0m\u001b[0;34m[\u001b[0m\u001b[0mval\u001b[0m\u001b[0;34m]\u001b[0m\u001b[0;34m[\u001b[0m\u001b[0;34m:\u001b[0m\u001b[0;36m200\u001b[0m\u001b[0;34m]\u001b[0m\u001b[0;34m)\u001b[0m\u001b[0;34m\u001b[0m\u001b[0m\n\u001b[0m",
      "\u001b[0;32m/usr/local/lib/python3.4/dist-packages/sklearn/ensemble/forest.py\u001b[0m in \u001b[0;36mfit\u001b[0;34m(self, X, y, sample_weight)\u001b[0m\n\u001b[1;32m    269\u001b[0m         \u001b[0mself\u001b[0m\u001b[0;34m.\u001b[0m\u001b[0mn_outputs_\u001b[0m \u001b[0;34m=\u001b[0m \u001b[0my\u001b[0m\u001b[0;34m.\u001b[0m\u001b[0mshape\u001b[0m\u001b[0;34m[\u001b[0m\u001b[0;36m1\u001b[0m\u001b[0;34m]\u001b[0m\u001b[0;34m\u001b[0m\u001b[0m\n\u001b[1;32m    270\u001b[0m \u001b[0;34m\u001b[0m\u001b[0m\n\u001b[0;32m--> 271\u001b[0;31m         \u001b[0my\u001b[0m\u001b[0;34m,\u001b[0m \u001b[0mexpanded_class_weight\u001b[0m \u001b[0;34m=\u001b[0m \u001b[0mself\u001b[0m\u001b[0;34m.\u001b[0m\u001b[0m_validate_y_class_weight\u001b[0m\u001b[0;34m(\u001b[0m\u001b[0my\u001b[0m\u001b[0;34m)\u001b[0m\u001b[0;34m\u001b[0m\u001b[0m\n\u001b[0m\u001b[1;32m    272\u001b[0m \u001b[0;34m\u001b[0m\u001b[0m\n\u001b[1;32m    273\u001b[0m         \u001b[0;32mif\u001b[0m \u001b[0mgetattr\u001b[0m\u001b[0;34m(\u001b[0m\u001b[0my\u001b[0m\u001b[0;34m,\u001b[0m \u001b[0;34m\"dtype\"\u001b[0m\u001b[0;34m,\u001b[0m \u001b[0;32mNone\u001b[0m\u001b[0;34m)\u001b[0m \u001b[0;34m!=\u001b[0m \u001b[0mDOUBLE\u001b[0m \u001b[0;32mor\u001b[0m \u001b[0;32mnot\u001b[0m \u001b[0my\u001b[0m\u001b[0;34m.\u001b[0m\u001b[0mflags\u001b[0m\u001b[0;34m.\u001b[0m\u001b[0mcontiguous\u001b[0m\u001b[0;34m:\u001b[0m\u001b[0;34m\u001b[0m\u001b[0m\n",
      "\u001b[0;32m/usr/local/lib/python3.4/dist-packages/sklearn/ensemble/forest.py\u001b[0m in \u001b[0;36m_validate_y_class_weight\u001b[0;34m(self, y)\u001b[0m\n\u001b[1;32m    455\u001b[0m \u001b[0;34m\u001b[0m\u001b[0m\n\u001b[1;32m    456\u001b[0m     \u001b[0;32mdef\u001b[0m \u001b[0m_validate_y_class_weight\u001b[0m\u001b[0;34m(\u001b[0m\u001b[0mself\u001b[0m\u001b[0;34m,\u001b[0m \u001b[0my\u001b[0m\u001b[0;34m)\u001b[0m\u001b[0;34m:\u001b[0m\u001b[0;34m\u001b[0m\u001b[0m\n\u001b[0;32m--> 457\u001b[0;31m         \u001b[0mcheck_classification_targets\u001b[0m\u001b[0;34m(\u001b[0m\u001b[0my\u001b[0m\u001b[0;34m)\u001b[0m\u001b[0;34m\u001b[0m\u001b[0m\n\u001b[0m\u001b[1;32m    458\u001b[0m \u001b[0;34m\u001b[0m\u001b[0m\n\u001b[1;32m    459\u001b[0m         \u001b[0my\u001b[0m \u001b[0;34m=\u001b[0m \u001b[0mnp\u001b[0m\u001b[0;34m.\u001b[0m\u001b[0mcopy\u001b[0m\u001b[0;34m(\u001b[0m\u001b[0my\u001b[0m\u001b[0;34m)\u001b[0m\u001b[0;34m\u001b[0m\u001b[0m\n",
      "\u001b[0;32m/usr/local/lib/python3.4/dist-packages/sklearn/utils/multiclass.py\u001b[0m in \u001b[0;36mcheck_classification_targets\u001b[0;34m(y)\u001b[0m\n\u001b[1;32m    170\u001b[0m     if y_type not in ['binary', 'multiclass', 'multiclass-multioutput',\n\u001b[1;32m    171\u001b[0m             'multilabel-indicator', 'multilabel-sequences']:\n\u001b[0;32m--> 172\u001b[0;31m         \u001b[0;32mraise\u001b[0m \u001b[0mValueError\u001b[0m\u001b[0;34m(\u001b[0m\u001b[0;34m\"Unknown label type: %r\"\u001b[0m \u001b[0;34m%\u001b[0m \u001b[0my_type\u001b[0m\u001b[0;34m)\u001b[0m\u001b[0;34m\u001b[0m\u001b[0m\n\u001b[0m\u001b[1;32m    173\u001b[0m \u001b[0;34m\u001b[0m\u001b[0m\n\u001b[1;32m    174\u001b[0m \u001b[0;34m\u001b[0m\u001b[0m\n",
      "\u001b[0;31mValueError\u001b[0m: Unknown label type: 'unknown'"
     ]
    }
   ],
   "source": [
    "from sklearn.ensemble import RandomForestClassifier\n",
    "\n",
    "data = ['ident','emestar','rc','qest','sigmag_0','emed','gama','apert','fpert','constmigI','emetal','taugas']\n",
    "target = ['num_planets','mass_planets','mass_efficiency']\n",
    "\n",
    "X=lowp_vars[data]\n",
    "Y=lowp_vars[target]\n",
    "X_train, X_test, Y_train, Y_test = train_test_split(X, Y, test_size=0.2)\n",
    "\n",
    "for var in data:\n",
    "    for val in target:\n",
    "        rf = RandomForestClassifier(n_estimators=50)\n",
    "        rf.fit(lowp_vars[var][:200], lowp_vars[val][:200])"
   ]
  }
 ],
 "metadata": {
  "kernelspec": {
   "display_name": "Python 3",
   "language": "python",
   "name": "python3"
  },
  "language_info": {
   "codemirror_mode": {
    "name": "ipython",
    "version": 3
   },
   "file_extension": ".py",
   "mimetype": "text/x-python",
   "name": "python",
   "nbconvert_exporter": "python",
   "pygments_lexer": "ipython3",
   "version": "3.4.2"
  }
 },
 "nbformat": 4,
 "nbformat_minor": 2
}
