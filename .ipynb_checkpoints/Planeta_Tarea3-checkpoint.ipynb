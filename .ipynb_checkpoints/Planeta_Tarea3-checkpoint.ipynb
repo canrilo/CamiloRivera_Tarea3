{
 "cells": [
  {
   "cell_type": "code",
   "execution_count": 99,
   "metadata": {
    "collapsed": true
   },
   "outputs": [],
   "source": [
    "import pandas as pd\n",
    "import numpy as np\n",
    "import matplotlib.pyplot as plt\n",
    "from sklearn import svm\n",
    "from sklearn import datasets\n",
    "from sklearn.datasets import make_classification\n",
    "from sklearn.datasets import make_blobs, make_moons, make_circles\n",
    "from sklearn.model_selection import train_test_split\n",
    "from sklearn import preprocessing\n",
    "from sklearn.model_selection import cross_val_score\n",
    "from sklearn.metrics import confusion_matrix\n",
    "%matplotlib inline"
   ]
  },
  {
   "cell_type": "code",
   "execution_count": 16,
   "metadata": {
    "collapsed": true
   },
   "outputs": [],
   "source": [
    "highPerturbation = pd.read_csv('https://raw.githubusercontent.com/ComputoCienciasUniandes/MetodosComputacionalesDatos/master/homework/2017-10/planetas/highp_finalresults.csv')#, index_col=0)\n",
    "lowPerturbation = pd.read_csv('https://raw.githubusercontent.com/ComputoCienciasUniandes/MetodosComputacionalesDatos/master/homework/2017-10/planetas/lowp_finalresults.csv')#, index_col=0)"
   ]
  },
  {
   "cell_type": "markdown",
   "metadata": {},
   "source": [
    "## Primero se realiza un análisis individual de cada sistema para extraer la información"
   ]
  },
  {
   "cell_type": "code",
   "execution_count": 104,
   "metadata": {
    "collapsed": false
   },
   "outputs": [],
   "source": [
    "columns=['emestar','rc','qest','sigmag_0','emed','gama','apert','fpert','constmigI','emetal','taugas',\\\n",
    "        'num_planets','mass_planets','mass_efficiency']\n",
    "\n",
    "#High Perturbation System Analysis\n",
    "Num_systh = highPerturbation['ident'].values[-1]+1\n",
    "highp_vars = pd.DataFrame(columns=columns)\n",
    "for i in range(Num_systh):\n",
    "    Current_syst = highPerturbation[highPerturbation['ident'].values==i]\n",
    "    planets=np.shape(Current_syst)[0]\n",
    "    \n",
    "    if(planets>0):\n",
    "        initials=Current_syst[columns[:11]].values[0]\n",
    "        planets=np.shape(Current_syst)[0]\n",
    "        row_vals=np.append(initials,planets)\n",
    "\n",
    "        planet_mass=np.sum(Current_syst['emepla(i)/emet'].values)\n",
    "        row_vals=np.append(row_vals,planet_mass)\n",
    "\n",
    "        eff=planet_mass/Current_syst['emed'].values[0]\n",
    "        row_vals=np.append(row_vals,eff)\n",
    "    else:\n",
    "        row_vals=np.array([0,0,0,0,0,0,0,0,0,0,0,0,0,0])\n",
    "    \n",
    "    highp_vars.loc[i]=row_vals\n",
    "    \n",
    "    \n",
    "#Low Perturbation System Analysis\n",
    "Num_systl = highPerturbation['ident'].values[-1]+1\n",
    "lowp_vars = pd.DataFrame(columns=columns)\n",
    "for i in range(Num_systl):\n",
    "    Current_syst = highPerturbation[highPerturbation['ident'].values==i]\n",
    "    planets=np.shape(Current_syst)[0]\n",
    "    \n",
    "    if(planets>0):\n",
    "        initials=Current_syst[columns[:11]].values[0]\n",
    "        planets=np.shape(Current_syst)[0]\n",
    "        row_vals=np.append(initials,planets)\n",
    "\n",
    "        planet_mass=np.sum(Current_syst['emepla(i)/emet'].values)\n",
    "        row_vals=np.append(row_vals,planet_mass)\n",
    "\n",
    "        eff=planet_mass/Current_syst['emed'].values[0]\n",
    "        row_vals=np.append(row_vals,eff)\n",
    "    else:\n",
    "        row_vals=np.array([0,0,0,0,0,0,0,0,0,0,0,0,0,0])\n",
    "    \n",
    "    lowp_vars.loc[i]=row_vals"
   ]
  }
 ],
 "metadata": {
  "kernelspec": {
   "display_name": "Python 2",
   "language": "python",
   "name": "python2"
  },
  "language_info": {
   "codemirror_mode": {
    "name": "ipython",
    "version": 2
   },
   "file_extension": ".py",
   "mimetype": "text/x-python",
   "name": "python",
   "nbconvert_exporter": "python",
   "pygments_lexer": "ipython2",
   "version": "2.7.13"
  }
 },
 "nbformat": 4,
 "nbformat_minor": 2
}
