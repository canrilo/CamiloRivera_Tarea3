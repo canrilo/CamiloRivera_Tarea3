{
 "cells": [
  {
   "cell_type": "code",
   "execution_count": 1,
   "metadata": {
    "collapsed": true
   },
   "outputs": [],
   "source": [
    "import pandas as pd\n",
    "import numpy as np\n",
    "import matplotlib.pyplot as plt\n",
    "from sklearn import svm\n",
    "from sklearn import datasets\n",
    "from sklearn.datasets import make_classification\n",
    "from sklearn.datasets import make_blobs, make_moons, make_circles\n",
    "from sklearn.model_selection import train_test_split\n",
    "from sklearn import preprocessing\n",
    "from sklearn.model_selection import cross_val_score\n",
    "from sklearn.metrics import confusion_matrix\n",
    "%matplotlib inline"
   ]
  },
  {
   "cell_type": "code",
   "execution_count": 2,
   "metadata": {
    "collapsed": true
   },
   "outputs": [],
   "source": [
    "highPerturbation = pd.read_csv('./highp_finalresults.csv')#, index_col=0)\n",
    "lowPerturbation = pd.read_csv('./lowp_finalresults.csv')#, index_col=0)"
   ]
  },
  {
   "cell_type": "markdown",
   "metadata": {},
   "source": [
    "## Primero se realiza un análisis individual de cada sistema para extraer la información"
   ]
  },
  {
   "cell_type": "code",
   "execution_count": 3,
   "metadata": {
    "collapsed": false
   },
   "outputs": [],
   "source": [
    "def get_systems_variables(pert_file):\n",
    "    \n",
    "    columns=['emestar','rc','qest','sigmag_0','emed','gama','apert','fpert','constmigI','emetal','taugas',\\\n",
    "        'num_planets','mass_planets','mass_efficiency']\n",
    "    Num_syst = pert_file['ident'].values[-1]+1\n",
    "    syst_vars = pd.DataFrame(columns=columns)\n",
    "    for i in range(Num_syst):\n",
    "        Current_syst = pert_file[pert_file['ident'].values==i]\n",
    "        planets=np.shape(Current_syst)[0]\n",
    "\n",
    "        if(planets>0):\n",
    "            initials=Current_syst[columns[:11]].values[0]\n",
    "            planets=np.shape(Current_syst)[0]\n",
    "            row_vals=np.append(initials,planets)\n",
    "\n",
    "            planet_mass=np.sum(Current_syst['emepla(i)/emet'].values)\n",
    "            row_vals=np.append(row_vals,planet_mass)\n",
    "\n",
    "            eff=planet_mass/Current_syst['emed'].values[0]\n",
    "            row_vals=np.append(row_vals,eff)\n",
    "        else:\n",
    "            row_vals=np.array([0,0,0,0,0,0,0,0,0,0,0,0,0,0])\n",
    "    \n",
    "        syst_vars.loc[i]=row_vals\n",
    "    return syst_vars\n",
    "\n",
    "#High Perturbation System Analysis\n",
    "highp_vars = get_systems_variables(highPerturbation)\n",
    "highp_vars = highp_vars[highp_vars['num_planets'].values!=0]\n",
    "#Low Perturbation System Analysis\n",
    "lowp_vars = get_systems_variables(lowPerturbation)\n",
    "lowp_vars = lowp_vars[lowp_vars['num_planets'].values!=0]"
   ]
  },
  {
   "cell_type": "markdown",
   "metadata": {},
   "source": [
    "# Luego se procede a entrenar una SVM para cada una de las salidas\n",
    "## Número de planetas"
   ]
  },
  {
   "cell_type": "code",
   "execution_count": 19,
   "metadata": {
    "collapsed": false
   },
   "outputs": [],
   "source": [
    "salidas = ['num_planets','mass_planets','mass_efficiency']\n",
    "\n",
    "#Dividing Input and Output Variables\n",
    "Xh = highp_vars[['emestar','rc','qest','sigmag_0','emed','gama','apert','fpert','constmigI','emetal','taugas']]\n",
    "Yh = highp_vars[salidas[0]]\n",
    "\n",
    "Xl = lowp_vars[['emestar','rc','qest','sigmag_0','emed','gama','apert','fpert','constmigI','emetal','taugas']] \n",
    "Yl = lowp_vars[salidas[0]]\n",
    "\n",
    "#Scaling Input values\n",
    "scaler = preprocessing.StandardScaler().fit(Xh)\n",
    "Xhs = scaler.transform(Xh)\n",
    "\n",
    "scaler = preprocessing.StandardScaler().fit(Xl)\n",
    "Xls = scaler.transform(Xl)\n",
    "\n",
    "#High Perturbation SVM\n",
    "Cs=np.linspace(0.001,5,num=20)\n",
    "Res = np.zeros([len(Cs)])\n",
    "for (c,i) in zip(Cs,range(len(Cs))):\n",
    "    clf = svm.SVC(kernel='linear', C=c)\n",
    "    scores = cross_val_score(clf, Xhs, Yh, cv=5)\n",
    "    Res[i]=np.mean(scores)\n",
    "\n"
   ]
  },
  {
   "cell_type": "code",
   "execution_count": 24,
   "metadata": {
    "collapsed": false
   },
   "outputs": [
    {
     "data": {
      "text/plain": [
       "<matplotlib.text.Text at 0x7f65ff40ab90>"
      ]
     },
     "execution_count": 24,
     "metadata": {},
     "output_type": "execute_result"
    },
    {
     "data": {
      "image/png": "[encoded data removed]",
      "text/plain": [
       "<matplotlib.figure.Figure at 0x7f65fbe36210>"
      ]
     },
     "metadata": {},
     "output_type": "display_data"
    }
   ],
   "source": [
    "plt.plot(Cs,Res)\n",
    "plt.xlabel('C Parameter')\n",
    "plt.ylabel('Score')\n",
    "plt.title('Mean Scores. 5 fold. Linear Kernel')"
   ]
  },
  {
   "cell_type": "code",
   "execution_count": null,
   "metadata": {
    "collapsed": true
   },
   "outputs": [],
   "source": []
  }
 ],
 "metadata": {
  "kernelspec": {
   "display_name": "Python 2",
   "language": "python",
   "name": "python2"
  },
  "language_info": {
   "codemirror_mode": {
    "name": "ipython",
    "version": 2
   },
   "file_extension": ".py",
   "mimetype": "text/x-python",
   "name": "python",
   "nbconvert_exporter": "python",
   "pygments_lexer": "ipython2",
   "version": "2.7.13"
  }
 },
 "nbformat": 4,
 "nbformat_minor": 2
}
